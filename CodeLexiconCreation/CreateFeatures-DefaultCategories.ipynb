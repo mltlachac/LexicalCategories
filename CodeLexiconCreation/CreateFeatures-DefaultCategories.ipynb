{
 "cells": [
  {
   "cell_type": "code",
   "execution_count": null,
   "metadata": {},
   "outputs": [],
   "source": [
    "#Authors: Tlachac, et al\n",
    "#Paper: \"Automated Construction of Lexicons to Improve Depression Screening with Text Messages\"\n",
    "\n",
    "from empath import Empath\n",
    "from empath import helpers as util\n",
    "import pandas as pd\n",
    "import numpy as np\n",
    "import re\n",
    "import string"
   ]
  },
  {
   "cell_type": "code",
   "execution_count": null,
   "metadata": {},
   "outputs": [],
   "source": [
    "#create list of all empath categories\n",
    "\n",
    "lexicon = Empath()\n",
    "emp = lexicon.analyze(\"Testing\", normalize=True)\n",
    "wordlist = []\n",
    "for word, value in emp.items():\n",
    "    wordlist.append(word)\n",
    "print(wordlist)"
   ]
  },
  {
   "cell_type": "code",
   "execution_count": null,
   "metadata": {},
   "outputs": [],
   "source": [
    "# read the data frame \n",
    "dataFrame = pd.read_csv(\"sent14days.csv\")\n",
    "#print(dataFrame)\n",
    "\n",
    "# obtain ID, texts, scores, and address 2 from dataframe\n",
    "dataFrame = dataFrame[['id', 'body2', 'scores', 'address2']]\n",
    "dataFrame.head()"
   ]
  },
  {
   "cell_type": "code",
   "execution_count": null,
   "metadata": {},
   "outputs": [],
   "source": [
    "# Group data frame by participant ID \n",
    "def sortList(inList):\n",
    "    newList = \" \".join(inList)\n",
    "    return newList\n",
    "\n",
    "def scoreList(inList): \n",
    "    #print(list(inList))\n",
    "    if len(inList) == 0: \n",
    "        return None\n",
    "    else: \n",
    "        return list(inList)[0]\n",
    "\n",
    "#function to clean out punctuation and make text lowercase\n",
    "def cleanText(text):\n",
    "    for punctuation in string.punctuation:\n",
    "        text = text.replace(punctuation,\"\")\n",
    "    return text.lower()\n",
    "\n",
    "newCol = dataFrame[['id', 'body2']].groupby(by = \"id\").agg(len)\n",
    "\n",
    "dataFrame = dataFrame.sort_values(by=\"id\")\n",
    "dataFrame = dataFrame.groupby(by = \"id\").agg({\"body2\":sortList, \"scores\": scoreList})\n",
    "dataFrame['NumTexts'] = newCol\n",
    "\n",
    "#only 2+ messages\n",
    "dataFrame = dataFrame[dataFrame['NumTexts'] >= 2]\n",
    "\n",
    "dataFrame.head()"
   ]
  },
  {
   "cell_type": "code",
   "execution_count": null,
   "metadata": {},
   "outputs": [],
   "source": [
    "dataFrame.reset_index(inplace=True)\n",
    "\n",
    "#actively remove punctuation and make lower case for text messages\n",
    "dataFrame[\"body2\"] = dataFrame[\"body2\"].apply(cleanText)\n",
    "\n",
    "dataFrame.head()"
   ]
  },
  {
   "cell_type": "code",
   "execution_count": null,
   "metadata": {},
   "outputs": [],
   "source": [
    "for j in range(0, len(wordlist)):\n",
    "\n",
    "    frequencies = []     \n",
    "        \n",
    "    #walk through each participant\n",
    "    for i in range(0,dataFrame.shape[0]):\n",
    "        body = dataFrame.body2[i]\n",
    "        #n words in body\n",
    "        bodylen = len(body.split(\" \"))\n",
    "    \n",
    "        emp = lexicon.analyze(body, categories=[wordlist[j]], normalize = True)\n",
    "\n",
    "        for word, value in emp.items():\n",
    "            print(word)\n",
    "            print(value)\n",
    "            frequencies.append(value)\n",
    "    dataFrame[wordlist[j]] = frequencies"
   ]
  },
  {
   "cell_type": "code",
   "execution_count": null,
   "metadata": {},
   "outputs": [],
   "source": [
    "dataFrame.head()"
   ]
  },
  {
   "cell_type": "code",
   "execution_count": null,
   "metadata": {},
   "outputs": [],
   "source": [
    "dataFrame.to_csv(\"featuresDefault.csv\")"
   ]
  }
 ],
 "metadata": {
  "kernelspec": {
   "display_name": "Python 3",
   "language": "python",
   "name": "python3"
  },
  "language_info": {
   "codemirror_mode": {
    "name": "ipython",
    "version": 3
   },
   "file_extension": ".py",
   "mimetype": "text/x-python",
   "name": "python",
   "nbconvert_exporter": "python",
   "pygments_lexer": "ipython3",
   "version": "3.7.6"
  }
 },
 "nbformat": 4,
 "nbformat_minor": 4
}
