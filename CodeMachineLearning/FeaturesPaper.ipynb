{
 "cells": [
  {
   "cell_type": "code",
   "execution_count": 3,
   "metadata": {},
   "outputs": [],
   "source": [
    "#Authors: Tlachac, et al\n",
    "#Paper: \"Automated Construction of Lexicons to Improve Depression Screening with Text Messages\"\n",
    "\n",
    "import pandas as pd\n",
    "import numpy as np\n",
    "import matplotlib.pyplot as plt\n",
    "from sklearn.feature_selection import SelectKBest, chi2\n",
    "from sklearn import preprocessing\n",
    "from scipy import stats\n",
    "import collections\n",
    "import operator\n",
    "import argparse\n",
    "import random\n",
    "from sklearn.model_selection import cross_validate\n",
    "from sklearn.model_selection import cross_val_predict\n",
    "from sklearn.metrics import confusion_matrix\n",
    "from sklearn.metrics import recall_score\n",
    "from statistics import mean \n",
    "from sklearn.naive_bayes import GaussianNB\n",
    "from sklearn.utils import resample\n",
    "from sklearn import preprocessing\n",
    "from sklearn import utils\n",
    "from sklearn.datasets import load_digits\n",
    "from sklearn import svm\n",
    "import xgboost as xgb\n",
    "from sklearn.neighbors import KNeighborsClassifier\n",
    "from sklearn.linear_model import LogisticRegression\n",
    "from sklearn.ensemble import RandomForestClassifier\n",
    "import random\n",
    "from sklearn.decomposition import PCA, KernelPCA, NMF\n",
    "from collections import Counter"
   ]
  },
  {
   "cell_type": "code",
   "execution_count": 5,
   "metadata": {},
   "outputs": [
    {
     "data": {
      "text/html": [
       "<div>\n",
       "<style scoped>\n",
       "    .dataframe tbody tr th:only-of-type {\n",
       "        vertical-align: middle;\n",
       "    }\n",
       "\n",
       "    .dataframe tbody tr th {\n",
       "        vertical-align: top;\n",
       "    }\n",
       "\n",
       "    .dataframe thead th {\n",
       "        text-align: right;\n",
       "    }\n",
       "</style>\n",
       "<table border=\"1\" class=\"dataframe\">\n",
       "  <thead>\n",
       "    <tr style=\"text-align: right;\">\n",
       "      <th></th>\n",
       "      <th>likely</th>\n",
       "      <th>looks</th>\n",
       "      <th>monday</th>\n",
       "      <th>target</th>\n",
       "    </tr>\n",
       "  </thead>\n",
       "  <tbody>\n",
       "    <tr>\n",
       "      <th>0</th>\n",
       "      <td>0.0</td>\n",
       "      <td>0.0</td>\n",
       "      <td>0.000000</td>\n",
       "      <td>1</td>\n",
       "    </tr>\n",
       "    <tr>\n",
       "      <th>1</th>\n",
       "      <td>0.0</td>\n",
       "      <td>1.0</td>\n",
       "      <td>0.000000</td>\n",
       "      <td>0</td>\n",
       "    </tr>\n",
       "    <tr>\n",
       "      <th>2</th>\n",
       "      <td>0.0</td>\n",
       "      <td>0.0</td>\n",
       "      <td>0.666667</td>\n",
       "      <td>0</td>\n",
       "    </tr>\n",
       "    <tr>\n",
       "      <th>3</th>\n",
       "      <td>0.0</td>\n",
       "      <td>0.0</td>\n",
       "      <td>0.000000</td>\n",
       "      <td>0</td>\n",
       "    </tr>\n",
       "    <tr>\n",
       "      <th>4</th>\n",
       "      <td>0.0</td>\n",
       "      <td>0.0</td>\n",
       "      <td>0.000000</td>\n",
       "      <td>0</td>\n",
       "    </tr>\n",
       "  </tbody>\n",
       "</table>\n",
       "</div>"
      ],
      "text/plain": [
       "   likely  looks    monday  target\n",
       "0     0.0    0.0  0.000000       1\n",
       "1     0.0    1.0  0.000000       0\n",
       "2     0.0    0.0  0.666667       0\n",
       "3     0.0    0.0  0.000000       0\n",
       "4     0.0    0.0  0.000000       0"
      ]
     },
     "execution_count": 5,
     "metadata": {},
     "output_type": "execute_result"
    }
   ],
   "source": [
    "featureE = \"Chi\"\n",
    "split = 10\n",
    "\n",
    "data = pd.read_csv(\"BOW.csv\")\n",
    "data = data[data[\"NumTexts\"]>=5].reset_index()\n",
    "\n",
    "data[data.columns[4]] = np.where(data[data.columns[4]] >= split, 1, 0)\n",
    "features = data[data.columns[6:]]\n",
    "target = data[data.columns[4]]\n",
    "min_max_scaler = preprocessing.MinMaxScaler()                   #NEED TO SCALE BEFORE FEATURE SELECTION!\n",
    "np_scaled = min_max_scaler.fit_transform(features)\n",
    "featureSubset = pd.DataFrame(np_scaled)\n",
    "\n",
    "KBest = SelectKBest(chi2, k=3).fit(featureSubset, target) \n",
    "f = KBest.get_support(2)\n",
    "newDF = featureSubset[featureSubset.columns[f]].assign(target = target)\n",
    "    \n",
    "columns = features.columns\n",
    "names = list(columns[f])\n",
    "names.append(\"target\")\n",
    "newDF.columns = names\n",
    "newDF.head()"
   ]
  },
  {
   "cell_type": "code",
   "execution_count": 6,
   "metadata": {
    "scrolled": true
   },
   "outputs": [
    {
     "data": {
      "text/html": [
       "<div>\n",
       "<style scoped>\n",
       "    .dataframe tbody tr th:only-of-type {\n",
       "        vertical-align: middle;\n",
       "    }\n",
       "\n",
       "    .dataframe tbody tr th {\n",
       "        vertical-align: top;\n",
       "    }\n",
       "\n",
       "    .dataframe thead th {\n",
       "        text-align: right;\n",
       "    }\n",
       "</style>\n",
       "<table border=\"1\" class=\"dataframe\">\n",
       "  <thead>\n",
       "    <tr style=\"text-align: right;\">\n",
       "      <th></th>\n",
       "      <th>negotiate</th>\n",
       "      <th>target</th>\n",
       "    </tr>\n",
       "  </thead>\n",
       "  <tbody>\n",
       "    <tr>\n",
       "      <th>0</th>\n",
       "      <td>0.0</td>\n",
       "      <td>1</td>\n",
       "    </tr>\n",
       "    <tr>\n",
       "      <th>1</th>\n",
       "      <td>0.0</td>\n",
       "      <td>0</td>\n",
       "    </tr>\n",
       "    <tr>\n",
       "      <th>2</th>\n",
       "      <td>0.0</td>\n",
       "      <td>0</td>\n",
       "    </tr>\n",
       "    <tr>\n",
       "      <th>3</th>\n",
       "      <td>0.0</td>\n",
       "      <td>0</td>\n",
       "    </tr>\n",
       "    <tr>\n",
       "      <th>4</th>\n",
       "      <td>0.0</td>\n",
       "      <td>0</td>\n",
       "    </tr>\n",
       "  </tbody>\n",
       "</table>\n",
       "</div>"
      ],
      "text/plain": [
       "   negotiate  target\n",
       "0        0.0       1\n",
       "1        0.0       0\n",
       "2        0.0       0\n",
       "3        0.0       0\n",
       "4        0.0       0"
      ]
     },
     "execution_count": 6,
     "metadata": {},
     "output_type": "execute_result"
    }
   ],
   "source": [
    "featureE = \"Chi\"\n",
    "split = 10\n",
    "\n",
    "data = pd.read_csv(\"featuresDefault.csv\")\n",
    "data = data[data[\"NumTexts\"]>=5].reset_index()\n",
    "data.head()\n",
    "\n",
    "data[data.columns[4]] = np.where(data[data.columns[4]] >= split, 1, 0)\n",
    "features = data[data.columns[6:]]\n",
    "target = data[data.columns[4]]\n",
    "min_max_scaler = preprocessing.MinMaxScaler()                   #NEED TO SCALE BEFORE FEATURE SELECTION!\n",
    "np_scaled = min_max_scaler.fit_transform(features)\n",
    "featureSubset = pd.DataFrame(np_scaled)\n",
    "\n",
    "KBest = SelectKBest(chi2, k=1).fit(featureSubset, target) \n",
    "f = KBest.get_support(2)\n",
    "newDF = featureSubset[featureSubset.columns[f]].assign(target = target)\n",
    "    \n",
    "columns = features.columns\n",
    "names = list(columns[f])  #THIS IS WHAT WE WANT TO SAVE IN RESULTS DF\n",
    "names.append(\"target\")\n",
    "newDF.columns = names\n",
    "newDF.head()"
   ]
  },
  {
   "cell_type": "code",
   "execution_count": 9,
   "metadata": {},
   "outputs": [
    {
     "name": "stdout",
     "output_type": "stream",
     "text": [
      "(88, 201)\n"
     ]
    }
   ],
   "source": [
    "VacationFiction5f = ['next_town', 'harbor', 'manhattan', 'times_square', 'hyde_park', 'farm', 'summer', 'docks', 'beach', 'long_island', 'park', 'maine', 'seattle', 'yacht', 'sunset', 'camping_trip', 'campground', 'central_park', 'pittsburgh', 'theme_park', 'downtown', 'the_spring', 'local_park', 'london_eye', 'chicago', 'skiing', 'private_beach', 'lake', 'vacation', 'snow_storm', 'long_trip', 'malibu', 'east_coast', 'ferry', 'portland', 'country_side', 'school_trip', 'the_weekend', 'swimming', 'harbour', 'resort', 'boardwalk', 'fishing', 'cruise', 'bonfire', 'water_park', 'aquarium', 'pond', 'mainland', 'sunny_day', 'santa_monica', 'disneyland', 'bungalow', 'camping', 'florida', 'colorado', 'farmhouse', 'pier', 'hike', 'california', 'boston', 'cruise_ship', 'san_diego', 'boats', 'summers', 'beaches', 'boat_ride', 'new_york_city', 'brighton', 'rental', 'countryside', 'amusement_park', 'hawaii', 'trip', 'this_summer', 'city', 'last_stop', 'hiking', 'lake_house', 'big_ben', 'mountains', 'picnic', 'camp', 'beach_house', 'winter', 'summer_time', 'holiday', 'road_trip', 'swimming_pool', 'festival', 'field_trip', 'london', 'bahamas', 'carnival', 'town', 'little_town', 'the_summer']\n",
    "negotiateDefault = ['monetary', 'appease', 'barter', 'diplomacy', 'govern', 'trade', 'proposition', 'wage', 'provision', 'settlement', 'contractor', 'dispute', 'merchant', 'buyer', 'investor', 'swindle', 'benefit', 'financially', 'reasonable', 'broker', 'negotiator', 'persuade', 'trading', 'wager', 'mortgage', 'profit', 'seller', 'spokesman', 'supplier', 'viable', 'profitable', 'repayment', 'ration', 'lucrative', 'consolation', 'treasury', 'debt', 'retribution', 'oversee', 'trader', 'envoy', 'feasible', 'investment', 'liaison', 'contingency', 'facilitate', 'negotiation', 'alliance', 'civil', 'haggle', 'loan', 'bribery', 'establish', 'renewal', 'procure', 'ploy', 'concede', 'compromise', 'asset', 'manufacture', 'partnership', 'solicit', 'favorable', 'bidding', 'loophole', 'bargain', 'ruse', 'employ', 'compensation', 'devise', 'prevail', 'guarantee', 'sell', 'reestablish', 'ransom', 'price', 'negotiate', 'transaction', 'commodity', 'reward']\n",
    "data = pd.read_csv(\"featuresDefault.csv\")\n",
    "data = data[data[\"NumTexts\"]>=5]\n",
    "print(data.shape)"
   ]
  },
  {
   "cell_type": "code",
   "execution_count": 15,
   "metadata": {},
   "outputs": [
    {
     "name": "stdout",
     "output_type": "stream",
     "text": [
      "Default Negotiation Words Used:\n",
      "Counter({'sell': 17, 'price': 9, 'trade': 3, 'debt': 3, 'guarantee': 2, 'compensation': 1, 'reasonable': 1, 'negotiation': 1, 'mortgage': 1, 'loan': 1, 'settlement': 1, 'barter': 1})\n"
     ]
    }
   ],
   "source": [
    "used = []\n",
    "for participant in data[\"id\"]:\n",
    "    text = list(str(list(data[data[\"id\"] == participant][\"body2\"])[0]).split(\" \"))\n",
    "\n",
    "    for t in text:\n",
    "        if t in negotiateDefault:\n",
    "            used.append(t)\n",
    "\n",
    "print(\"Default Negotiation Words Used:\")\n",
    "print(Counter(used))"
   ]
  },
  {
   "cell_type": "code",
   "execution_count": 14,
   "metadata": {},
   "outputs": [
    {
     "name": "stdout",
     "output_type": "stream",
     "text": [
      "Fiction5f Vacation Words Used\n",
      "Counter({'chicago': 16, 'town': 15, 'downtown': 10, 'harbor': 10, 'beach': 8, 'trip': 7, 'vacation': 5, 'city': 5, 'holiday': 5, 'florida': 5, 'park': 5, 'winter': 4, 'california': 4, 'summer': 3, 'farm': 3, 'hiking': 3, 'pittsburgh': 2, 'fishing': 2, 'colorado': 2, 'hike': 1, 'boats': 1, 'countryside': 1, 'aquarium': 1})\n"
     ]
    }
   ],
   "source": [
    "usedVacation = []\n",
    "for participant in data[\"id\"]:\n",
    "    text = list(str(list(data[data[\"id\"] == participant][\"body2\"])[0]).split(\" \"))\n",
    "\n",
    "    for t in text:\n",
    "        if t in VacationFiction5f:\n",
    "            usedVacation.append(t)\n",
    "            \n",
    "print(\"Fiction5f Vacation Words Used\")\n",
    "print(Counter(usedVacation))"
   ]
  },
  {
   "cell_type": "code",
   "execution_count": null,
   "metadata": {},
   "outputs": [],
   "source": []
  }
 ],
 "metadata": {
  "kernelspec": {
   "display_name": "Python 3",
   "language": "python",
   "name": "python3"
  },
  "language_info": {
   "codemirror_mode": {
    "name": "ipython",
    "version": 3
   },
   "file_extension": ".py",
   "mimetype": "text/x-python",
   "name": "python",
   "nbconvert_exporter": "python",
   "pygments_lexer": "ipython3",
   "version": "3.7.6"
  }
 },
 "nbformat": 4,
 "nbformat_minor": 4
}
